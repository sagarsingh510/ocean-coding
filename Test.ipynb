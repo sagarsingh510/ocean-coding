{
 "cells": [
  {
   "cell_type": "code",
   "execution_count": 1,
   "id": "6ea56724-3bf3-435c-b20c-9fe260bd2465",
   "metadata": {},
   "outputs": [
    {
     "data": {
      "text/plain": [
       "2"
      ]
     },
     "execution_count": 1,
     "metadata": {},
     "output_type": "execute_result"
    }
   ],
   "source": [
    "1+1"
   ]
  },
  {
   "cell_type": "markdown",
   "id": "1e9de5fb-56a2-4d72-9844-89ce59382359",
   "metadata": {},
   "source": [
    "gdjgdhjgdjgdjgdhghg"
   ]
  },
  {
   "cell_type": "raw",
   "id": "28fd6e10-fb03-4aba-9948-d382ce0a362e",
   "metadata": {},
   "source": []
  }
 ],
 "metadata": {
  "kernelspec": {
   "display_name": "Python 3 (ipykernel)",
   "language": "python",
   "name": "python3"
  },
  "language_info": {
   "codemirror_mode": {
    "name": "ipython",
    "version": 3
   },
   "file_extension": ".py",
   "mimetype": "text/x-python",
   "name": "python",
   "nbconvert_exporter": "python",
   "pygments_lexer": "ipython3",
   "version": "3.10.8"
  }
 },
 "nbformat": 4,
 "nbformat_minor": 5
}
